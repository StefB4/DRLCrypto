{
 "cells": [
  {
   "cell_type": "markdown",
   "id": "d6e71859",
   "metadata": {},
   "source": [
    "# Data Preprocessing"
   ]
  },
  {
   "cell_type": "code",
   "execution_count": 1,
   "id": "45816526",
   "metadata": {},
   "outputs": [],
   "source": [
    "import pandas as pd\n",
    "import numpy as np\n",
    "import glob\n",
    "import os \n",
    "\n",
    "RAWDATA = \"./rawdata\"\n",
    "PROCESSEDDATA = \"./processeddata\"\n",
    "STEPWIDTH = 3600"
   ]
  },
  {
   "cell_type": "code",
   "execution_count": 2,
   "id": "59504739",
   "metadata": {},
   "outputs": [
    {
     "name": "stdout",
     "output_type": "stream",
     "text": [
      "Found coin data: ['XRPBTC', 'ETHBTC', 'LTCBTC', 'BTCUSDT', 'ADABTC', 'XMRBTC']\n"
     ]
    }
   ],
   "source": [
    "# Read rawdata\n",
    "data_frames = []\n",
    "data_names = []\n",
    "for raw_file in glob.glob(RAWDATA + \"/*.csv\"):\n",
    "    data_frames.append(pd.read_csv(os.path.join(raw_file)))\n",
    "    name = os.path.basename(raw_file)\n",
    "    name = name.split(\"-\")[0]\n",
    "    data_names.append(name)\n",
    "print(\"Found coin data: \" + str(data_names))"
   ]
  },
  {
   "cell_type": "code",
   "execution_count": 3,
   "id": "b73a524d",
   "metadata": {},
   "outputs": [
    {
     "name": "stdout",
     "output_type": "stream",
     "text": [
      "Available columns: Index(['timestamp', 'open', 'high', 'low', 'close'], dtype='object')\n",
      "Available columns: Index(['timestamp', 'open', 'high', 'low', 'close', 'unixtime'], dtype='object')\n"
     ]
    }
   ],
   "source": [
    "#print(data_frames[0].columns)\n",
    "# Available: 'timestamp', 'open', 'high', 'low', 'close', 'volume', 'close_time', 'quote_av', 'trades', 'tb_base_av', 'tb_quote_av', 'ignore'\n",
    "\n",
    "# Drop unused data\n",
    "for idx, _ in enumerate(data_frames):\n",
    "    data_frames[idx].drop(columns=['volume','close_time','quote_av','trades','tb_base_av','tb_quote_av','ignore'], inplace= True)\n",
    "print(\"Available columns: \" + str(data_frames[0].columns))\n",
    "\n",
    "# Convert timestamp \n",
    "for idx, _ in enumerate(data_frames):\n",
    "    data_frames[idx]['timestamp'] = pd.to_datetime(data_frames[idx]['timestamp'])\n",
    "    data_frames[idx]['unixtime'] = (data_frames[idx]['timestamp'] - pd.Timestamp(\"1970-01-01\")) // pd.Timedelta('1s')\n",
    "print(\"Available columns: \" + str(data_frames[0].columns))"
   ]
  },
  {
   "cell_type": "code",
   "execution_count": 4,
   "id": "1d80d6fa",
   "metadata": {},
   "outputs": [
    {
     "name": "stdout",
     "output_type": "stream",
     "text": [
      "Coin with latest data start: ADABTC 2017-11-30 12:00:00\n",
      "XRPBTC length: 29577 ETHBTC length: 29587 LTCBTC length: 29587 BTCUSDT length: 29577 ADABTC length: 29577 XMRBTC length: 29587 \n",
      "Dropped all coin's previous data.\n"
     ]
    }
   ],
   "source": [
    "# Find latest beginning timestamp \n",
    "latest_begin = 0\n",
    "latest_coin_idx = -1\n",
    "for idx, _ in enumerate(data_frames):\n",
    "    if (data_frames[idx]['unixtime'][0] > latest_begin):\n",
    "        latest_coin_idx = idx \n",
    "        latest_begin = data_frames[idx]['unixtime'][0]\n",
    "print(\"Coin with latest data start: \" + data_names[latest_coin_idx] + \" \" + str(data_frames[latest_coin_idx]['timestamp'][0]))\n",
    "\n",
    "# Drop data points earlier than latest data start \n",
    "for idx, _ in enumerate(data_frames):\n",
    "    data_frames[idx].drop(data_frames[idx][data_frames[idx]['unixtime'] < latest_begin].index, inplace=True)\n",
    "    data_frames[idx].reset_index(inplace=True)\n",
    "    data_frames[idx].drop(columns=[\"index\"], inplace=True)\n",
    "    print(data_names[idx] + \" length: \" + str(len(data_frames[idx])) + \" \", end='')\n",
    "print(\"\\nDropped all coin's previous data.\")"
   ]
  },
  {
   "cell_type": "code",
   "execution_count": 5,
   "id": "76495f44",
   "metadata": {},
   "outputs": [
    {
     "name": "stdout",
     "output_type": "stream",
     "text": [
      "XRPBTC length: 29686 Found NaNs: False\n",
      "ETHBTC length: 29686 Found NaNs: False\n",
      "LTCBTC length: 29686 Found NaNs: False\n",
      "BTCUSDT length: 29686 Found NaNs: False\n",
      "ADABTC length: 29686 Found NaNs: False\n",
      "XMRBTC length: 29686 Found NaNs: False\n"
     ]
    }
   ],
   "source": [
    "# Fill holes in the data \n",
    "for idx, _ in enumerate(data_frames):\n",
    "    start_time = data_frames[idx]['unixtime'][0]\n",
    "    end_time = data_frames[idx]['unixtime'].iloc[-1]\n",
    "    \n",
    "    # Find holes from unixtime and create missing lines filled with nans\n",
    "    new_index = pd.Index(np.arange(start_time,end_time,STEPWIDTH), name=\"unixtime\")\n",
    "    data_frames[idx] = data_frames[idx].set_index('unixtime').reindex(new_index).reset_index()\n",
    "    \n",
    "    # Keep track of where data was added\n",
    "    data_frames[idx]['interpolateddata'] = data_frames[idx]['timestamp'].isnull()\n",
    "    \n",
    "    # Calculate date time timestamp from unixtime for added lines\n",
    "    data_frames[idx].loc[data_frames[idx]['interpolateddata'] == True, 'timestamp'] = data_frames[idx].loc[data_frames[idx]['interpolateddata'] == True, 'unixtime'].apply(lambda x: pd.to_datetime(x, unit='s'))\n",
    "    \n",
    "    # Fill line's empty columns \n",
    "    data_frames[idx]['open'].fillna(method='ffill', inplace = True)\n",
    "    data_frames[idx]['high'].fillna(method='ffill', inplace = True)\n",
    "    data_frames[idx]['low'].fillna(method='ffill', inplace = True)\n",
    "    data_frames[idx]['close'].fillna(method='ffill', inplace = True)\n",
    "    data_frames[idx]['open'].fillna(method='bfill', inplace = True)\n",
    "    data_frames[idx]['high'].fillna(method='bfill', inplace = True)\n",
    "    data_frames[idx]['low'].fillna(method='bfill', inplace = True)\n",
    "    data_frames[idx]['close'].fillna(method='bfill', inplace = True)\n",
    "    \n",
    "    print(data_names[idx] + \" length: \" + str(len(data_frames[idx])) + \" Found NaNs: \" + str(data_frames[idx].isnull().values.any()))"
   ]
  },
  {
   "cell_type": "code",
   "execution_count": 6,
   "id": "23ec5ab2",
   "metadata": {},
   "outputs": [],
   "source": [
    "# calculate prices based on US Dollar (use USDT-BTC prices, as USDT is stable coin, i.e. always roughly 1 Dollar)\n",
    "usdt_btc_idx = data_names.index('BTCUSDT')\n",
    "for idx, _ in enumerate(data_frames):\n",
    "    if idx == usdt_btc_idx:\n",
    "        continue\n",
    "    # rename original prices \n",
    "    data_frames[idx].rename(columns={'open':'openbtc','close':'closebtc','high':'highbtc','low':'lowbtc'},inplace = True)\n",
    "    data_frames[idx]['open'] = data_frames[idx]['openbtc'] * data_frames[usdt_btc_idx]['open']\n",
    "    data_frames[idx]['close'] = data_frames[idx]['closebtc'] * data_frames[usdt_btc_idx]['close']\n",
    "    data_frames[idx]['low'] = data_frames[idx]['lowbtc'] * data_frames[usdt_btc_idx]['low']\n",
    "    data_frames[idx]['high'] = data_frames[idx]['highbtc'] * data_frames[usdt_btc_idx]['high']"
   ]
  },
  {
   "cell_type": "code",
   "execution_count": 7,
   "id": "1e3253d4",
   "metadata": {},
   "outputs": [
    {
     "name": "stdout",
     "output_type": "stream",
     "text": [
      "Finished MACD for: XRPBTC\n",
      "Finished RSI for: XRPBTC\n",
      "Finished CCI for: XRPBTC\n",
      "Finished ADX for: XRPBTC\n",
      "Finished MACD for: ETHBTC\n",
      "Finished RSI for: ETHBTC\n",
      "Finished CCI for: ETHBTC\n",
      "Finished ADX for: ETHBTC\n",
      "Finished MACD for: LTCBTC\n",
      "Finished RSI for: LTCBTC\n",
      "Finished CCI for: LTCBTC\n",
      "Finished ADX for: LTCBTC\n",
      "Finished MACD for: BTCUSDT\n",
      "Finished RSI for: BTCUSDT\n",
      "Finished CCI for: BTCUSDT\n",
      "Finished ADX for: BTCUSDT\n",
      "Finished MACD for: ADABTC\n",
      "Finished RSI for: ADABTC\n",
      "Finished CCI for: ADABTC\n",
      "Finished ADX for: ADABTC\n",
      "Finished MACD for: XMRBTC\n",
      "Finished RSI for: XMRBTC\n",
      "Finished CCI for: XMRBTC\n",
      "Finished ADX for: XMRBTC\n"
     ]
    }
   ],
   "source": [
    "# Calculate special indices \n",
    "\n",
    "\n",
    "# Average Directional Index (ADX) (credit to https://stackoverflow.com/a/64946213)\n",
    "def ADX(data: pd.DataFrame, period: int):\n",
    "    \"\"\"\n",
    "    Computes the ADX indicator.\n",
    "    \"\"\"\n",
    "    \n",
    "    df = data.copy()\n",
    "    alpha = 1/period\n",
    "\n",
    "    # TR\n",
    "    df['H-L'] = df['high'] - df['low']\n",
    "    df['H-C'] = np.abs(df['high'] - df['close'].shift(1))\n",
    "    df['L-C'] = np.abs(df['low'] - df['close'].shift(1))\n",
    "    df['TR'] = df[['H-L', 'H-C', 'L-C']].max(axis=1)\n",
    "    del df['H-L'], df['H-C'], df['L-C']\n",
    "\n",
    "    # ATR\n",
    "    df['ATR'] = df['TR'].ewm(alpha=alpha, adjust=False).mean()\n",
    "\n",
    "    # +-DX\n",
    "    df['H-pH'] = df['high'] - df['high'].shift(1)\n",
    "    df['pL-L'] = df['low'].shift(1) - df['low']\n",
    "    df['+DX'] = np.where(\n",
    "        (df['H-pH'] > df['pL-L']) & (df['H-pH']>0),\n",
    "        df['H-pH'],\n",
    "        0.0\n",
    "    )\n",
    "    df['-DX'] = np.where(\n",
    "        (df['H-pH'] < df['pL-L']) & (df['pL-L']>0),\n",
    "        df['pL-L'],\n",
    "        0.0\n",
    "    )\n",
    "    del df['H-pH'], df['pL-L']\n",
    "\n",
    "    # +- DMI\n",
    "    df['S+DM'] = df['+DX'].ewm(alpha=alpha, adjust=False).mean()\n",
    "    df['S-DM'] = df['-DX'].ewm(alpha=alpha, adjust=False).mean()\n",
    "    df['+DMI'] = (df['S+DM']/df['ATR'])*100\n",
    "    df['-DMI'] = (df['S-DM']/df['ATR'])*100\n",
    "    del df['S+DM'], df['S-DM']\n",
    "\n",
    "    # ADX\n",
    "    df['DX'] = (np.abs(df['+DMI'] - df['-DMI'])/(df['+DMI'] + df['-DMI']))*100\n",
    "    df['ADX'] = df['DX'].ewm(alpha=alpha, adjust=False).mean()\n",
    "    del df['DX'], df['ATR'], df['TR'], df['-DX'], df['+DX'], df['+DMI'], df['-DMI']\n",
    "\n",
    "    return df\n",
    "\n",
    "\n",
    "for idx, _ in enumerate(data_frames):\n",
    "    \n",
    "    # Moving average convergence divergence (MACD) (credit to https://towardsdatascience.com/implementing-macd-in-python-cc9b2280126a)\n",
    "    exp1 = data_frames[idx]['close'].ewm(span=12, adjust=False).mean()\n",
    "    exp2 = data_frames[idx]['close'].ewm(span=26, adjust=False).mean()\n",
    "    data_frames[idx]['macd'] = exp1-exp2\n",
    "    print(\"Finished MACD for: \" + data_names[idx])\n",
    "    \n",
    "    # Relative Strength Index (RSI) (credit to https://stackoverflow.com/a/29400434)\n",
    "    delta = data_frames[idx]['close'].diff()\n",
    "    delta = delta[1:] # first row is nan, get rid of it \n",
    "    up, down = delta.copy(), delta.copy() # Make the positive gains (up) and negative gains (down) Series\n",
    "    up[up < 0] = 0\n",
    "    down[down > 0] = 0\n",
    "    roll_up = up.ewm(span=12).mean() # Calculate the EWMA\n",
    "    roll_down = down.abs().ewm(span=12).mean()\n",
    "    RS = roll_up / roll_down # Calculate the RSI based on EWMA\n",
    "    RSI = 100.0 - (100.0 / (1.0 + RS))\n",
    "    data_frames[idx]['rsi'] = pd.concat([pd.Series([np.nan]), RSI])\n",
    "    print(\"Finished RSI for: \" + data_names[idx])\n",
    "\n",
    "    # Commodity Channel Index (CCI) (credit to https://blog.quantinsti.com/build-technical-indicators-in-python/#commodity-channel-index) \n",
    "    TP = (data_frames[idx]['high'] + data_frames[idx]['low'] + data_frames[idx]['close']) / 3 \n",
    "    SMA = TP.rolling(14).mean()\n",
    "    MAD = TP.rolling(14).apply(lambda x: pd.Series(x).mad())\n",
    "    data_frames[idx]['cci'] = (TP - SMA) / (0.015 * MAD) \n",
    "    print(\"Finished CCI for: \" + data_names[idx])\n",
    "    \n",
    "    # Average Directional Index (ADX) (credit to https://stackoverflow.com/a/64946213)\n",
    "    data_frames[idx]['adx'] = ADX(data_frames[idx],12)['ADX']\n",
    "    print(\"Finished ADX for: \" + data_names[idx])\n",
    "    \n",
    "    # Delete first few data points to account for incorrect moving average starting values\n",
    "    data_frames[idx].drop(data_frames[idx].index[:15], inplace=True)\n",
    "    data_frames[idx].reset_index(inplace=True)\n",
    "    data_frames[idx].drop(columns=[\"index\"], inplace=True)\n",
    "\n",
    "\n"
   ]
  },
  {
   "cell_type": "code",
   "execution_count": 8,
   "id": "e8a1d61e",
   "metadata": {},
   "outputs": [
    {
     "name": "stdout",
     "output_type": "stream",
     "text": [
      "Available columns: Index(['unixtime', 'timestamp', 'openbtc', 'highbtc', 'lowbtc', 'closebtc',\n",
      "       'interpolateddata', 'open', 'close', 'low', 'high', 'macd', 'rsi',\n",
      "       'cci', 'adx'],\n",
      "      dtype='object')\n",
      "Wrote data to disk.\n"
     ]
    }
   ],
   "source": [
    "# Final available data\n",
    "print(\"Available columns: \" + str(data_frames[0].columns))\n",
    "\n",
    "# Write to disk \n",
    "for idx, _ in enumerate(data_frames):\n",
    "    data_frames[idx].to_csv(os.path.join(PROCESSEDDATA, data_names[idx] + \".csv\"))\n",
    "print(\"Wrote data to disk.\")"
   ]
  },
  {
   "cell_type": "code",
   "execution_count": null,
   "id": "157bf961",
   "metadata": {},
   "outputs": [],
   "source": []
  }
 ],
 "metadata": {
  "kernelspec": {
   "display_name": "Python 3",
   "language": "python",
   "name": "python3"
  },
  "language_info": {
   "codemirror_mode": {
    "name": "ipython",
    "version": 3
   },
   "file_extension": ".py",
   "mimetype": "text/x-python",
   "name": "python",
   "nbconvert_exporter": "python",
   "pygments_lexer": "ipython3",
   "version": "3.8.5"
  }
 },
 "nbformat": 4,
 "nbformat_minor": 5
}
